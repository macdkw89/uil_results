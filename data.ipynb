{
 "cells": [
  {
   "cell_type": "code",
   "execution_count": 188,
   "metadata": {},
   "outputs": [],
   "source": [
    "import pandas as pd\n",
    "import numpy as np\n",
    "import matplotlib.pyplot as plt\n",
    "import fuzzywuzzy as fuzz\n",
    "from fuzzywuzzy import process"
   ]
  },
  {
   "cell_type": "markdown",
   "metadata": {},
   "source": [
    "# Load the data CSVs"
   ]
  },
  {
   "cell_type": "code",
   "execution_count": 189,
   "metadata": {},
   "outputs": [
    {
     "name": "stdout",
     "output_type": "stream",
     "text": [
      "60669\n"
     ]
    }
   ],
   "source": [
    "# Load full_output.csv\n",
    "df = pd.read_csv('csv_files/full_output.csv')\n",
    "df.columns = df.columns.str.strip()\n",
    "\n",
    "# Drop Event and TEA column\n",
    "df = df.drop(columns=['Event', 'TEA'])\n",
    "print(len(df))\n",
    "\n",
    "# Load pml_output.csv\n",
    "pml_df = pd.read_csv('csv_files/pml_output.csv')\n",
    "pml_df.columns = pml_df.columns.str.strip()"
   ]
  },
  {
   "cell_type": "markdown",
   "metadata": {},
   "source": [
    "# Remove disqualified and null rows"
   ]
  },
  {
   "cell_type": "code",
   "execution_count": 190,
   "metadata": {},
   "outputs": [
    {
     "name": "stdout",
     "output_type": "stream",
     "text": [
      "60141\n"
     ]
    }
   ],
   "source": [
    "# Remove DNA, DQ\n",
    "judging_columns = ['Stage Judge 1', 'Stage Judge 2', 'Stage Judge 3', 'Stage Final', 'SR Judge 1', 'SR Judge 2', 'SR Judge 3', 'SR Final']\n",
    "\n",
    "for i in judging_columns:\n",
    "    df = df[df[i] != 'DNA']\n",
    "    df = df[df[i] != 'DQ']\n",
    "\n",
    "# Convert blanks to nans\n",
    "for i in judging_columns:\n",
    "    df[i] = df[i].replace(['', ' '], np.nan)\n",
    "\n",
    "print(len(df))"
   ]
  },
  {
   "cell_type": "code",
   "execution_count": 191,
   "metadata": {},
   "outputs": [],
   "source": [
    "# Trim whitespace, double spaces, commas, and periods from selections\n",
    "selection_columns = ['Selection 1', 'Selection 2', 'Selection 3']\n",
    "\n",
    "for i in selection_columns:\n",
    "    df[i] = df[i].str.strip()\n",
    "    df[i] = df[i].str.replace('  ', ' ', regex=False)\n",
    "    df[i] = df[i].str.replace(',', '', regex=False)\n",
    "    df[i] = df[i].str.replace('.', '', regex=False)\n",
    "\n",
    "# Trim whitespace from classification column\n",
    "df['Classification'] = df['Classification'].str.strip()\n",
    "\n",
    "# Remove composer/arranger information from selections\n",
    "for column in selection_columns:\n",
    "    # remove all inside parenthesis\n",
    "    df[column] = df[column].str.replace('\\(.*\\)', '', regex=True)\n",
    "    # trim whitespace\n",
    "    df[column] = df[column].str.strip()\n"
   ]
  },
  {
   "cell_type": "markdown",
   "metadata": {},
   "source": [
    "## Get the average judge rating"
   ]
  },
  {
   "cell_type": "code",
   "execution_count": 192,
   "metadata": {},
   "outputs": [],
   "source": [
    "# Average together Stage Judge 1, 2, and 3 into a new column\n",
    "for i in judging_columns:\n",
    "    df[i] = df[i].astype(float)\n",
    "\n",
    "df['Stage Average'] = (df['Stage Judge 1'] + df['Stage Judge 2'] + df['Stage Judge 3']) / 3"
   ]
  },
  {
   "cell_type": "markdown",
   "metadata": {},
   "source": [
    "## Export clean csv"
   ]
  },
  {
   "cell_type": "code",
   "execution_count": 193,
   "metadata": {},
   "outputs": [],
   "source": [
    "# Export df to csv\n",
    "df.to_csv('csv_files/full_output_clean.csv', index=False)"
   ]
  },
  {
   "cell_type": "markdown",
   "metadata": {},
   "source": [
    "# Functions for analysis"
   ]
  },
  {
   "cell_type": "code",
   "execution_count": 194,
   "metadata": {},
   "outputs": [
    {
     "name": "stdout",
     "output_type": "stream",
     "text": [
      "[2005 2006 2007 2008 2009 2010 2011 2012 2013 2014 2015 2016 2017 2018\n",
      " 2019 2020 2021 2022]\n",
      "['Varsity' 'Sub Non-Varsity' 'Sub Non-Varsity A' 'Sub Non-Varsity B'\n",
      " 'Non-Varsity B' 'Non-Varsity C' 'Non-Varsity E' 'Non-Varsity F'\n",
      " 'Sub Non-Varsity C' 'Sub Non-Varsity D' 'Sub Non-Varsity E' 'Non-Varsity'\n",
      " 'Non-Varsity A' nan 'Combined' 'Non-Varsity D' 'Var-Composite'\n",
      " 'Var-Combined' '' 'NVar-Composite' 'NVar-Combined' 'Sub Non-Varsity F'\n",
      " 'Varsity C' 'Varsity B' 'Varsity A' 'Sub Non-Varsity G' 'Var-Composite A'\n",
      " 'Sub Non-Varsity H' 'Sub Non-Varsity I' 'NVar-Composite A']\n",
      "['CC' 'AAAAA' 'AAAA' 'C' 'CCC' 'AAA' 'A' 'AA' 'BBB' 'BB' 'Varsity '\n",
      " 'Non-Varsity ' 'Non-Varsity A' 'Sub Non-Varsity ' 'Sub Non-Varsity B' 'B'\n",
      " 'Var-Composite ' '2C' ' Acc:n/a' '4A' 'cc' ' Acc:N/A' 'Non-Varsity C'\n",
      " 'Var-Combined ' 'NVar-Composite ' '1C' 'AAAAAA']\n"
     ]
    }
   ],
   "source": [
    "year_list = df['Year'].unique()\n",
    "class_list = df['Classification'].unique()\n",
    "conf_list = df['Conference'].unique()\n",
    "\n",
    "df['Conference'] = df['Conference'].replace('2C', 'CC')\n",
    "df['Conference'] = df['Conference'].replace('4A', 'AAAA')\n",
    "df['Conference'] = df['Conference'].replace('cc', 'CC')\n",
    "df['Conference'] = df['Conference'].replace('1C', 'C')\n",
    "\n",
    "print(year_list)\n",
    "print(class_list)\n",
    "print(conf_list)\n"
   ]
  },
  {
   "cell_type": "code",
   "execution_count": 165,
   "metadata": {},
   "outputs": [],
   "source": [
    "def top_n_grabber(n=20, d=df, y=year_list, cl=class_list, co=conf_list):\n",
    "    df_grabber = d\n",
    "    df_grabber = df_grabber[pd.DataFrame(df_grabber.Year.to_list()).isin(y).any(1).values]\n",
    "    df_grabber = df_grabber[pd.DataFrame(df_grabber.Classification.to_list()).isin(cl).any(1).values]\n",
    "    df_grabber = df_grabber[pd.DataFrame(df_grabber.Conference.to_list()).isin(co).any(1).values]\n",
    "\n",
    "    # Select each Selection into a list\n",
    "    selection_1_list = df_grabber['Selection 1'].tolist()\n",
    "    selection_2_list = df_grabber['Selection 2'].tolist()\n",
    "    selection_3_list = df_grabber['Selection 3'].tolist()\n",
    "    # combine selection 1, 2, and 3 into one dataframe\n",
    "    full_selection_list = pd.DataFrame(selection_1_list + selection_2_list + selection_3_list)\n",
    "\n",
    "    top_n_df = pd.DataFrame(full_selection_list.value_counts()[:n])\n",
    "    top_n_df.columns = ['Count']\n",
    "    top_n_df.reset_index(drop=False, inplace=True)\n",
    "    top_n_df.columns = ['Selection', 'Count']\n",
    "    top_n_df\n",
    "\n",
    "    # make selection column into a list\n",
    "    selection_list = top_n_df['Selection'].tolist()\n",
    "    value_list = top_n_df['Count'].tolist()\n",
    "    return selection_list, value_list"
   ]
  },
  {
   "cell_type": "code",
   "execution_count": 195,
   "metadata": {},
   "outputs": [
    {
     "data": {
      "image/png": "[encoded data removed]",
      "text/plain": [
       "<Figure size 432x288 with 1 Axes>"
      ]
     },
     "metadata": {
      "needs_background": "light"
     },
     "output_type": "display_data"
    }
   ],
   "source": [
    "# Plot a line graph of the number of rows in each year\n",
    "df_year_counter = df.groupby('Year').size()\n",
    "df_year_counter.plot(kind='line')\n",
    "plt.xticks(year_list)\n",
    "plt.xticks(rotation=45)\n",
    "plt.title('Number of entries per year')\n",
    "plt.show()"
   ]
  },
  {
   "cell_type": "code",
   "execution_count": 197,
   "metadata": {},
   "outputs": [
    {
     "data": {
      "image/png": "[encoded data removed]",
      "text/plain": [
       "<Figure size 1332x756 with 1 Axes>"
      ]
     },
     "metadata": {
      "needs_background": "light"
     },
     "output_type": "display_data"
    }
   ],
   "source": [
    "\n",
    "# Plot top n selections\n",
    "def plotter(n=20, d=df, y=year_list, cl=class_list, co=conf_list):\n",
    "    fig, ax = plt.subplots()\n",
    "    bars = ax.barh(top_n_grabber(n, d, y, cl, co)[0], top_n_grabber(n, d, y, cl, co)[1])\n",
    "    ax.set_title(f'Top {n} selections')\n",
    "    ax.set_xlabel('Count')\n",
    "    ax.set_ylabel('Selection')\n",
    "    for bars in ax.containers:\n",
    "        ax.bar_label(bars)\n",
    "    # invert the y-axis\n",
    "    ax.invert_yaxis()\n",
    "   # reset size of the plot\n",
    "    fig.set_size_inches(18.5, 10.5)\n",
    "\n",
    "    plt.show()\n",
    "\n",
    "plotter(30, df, [2022], ['Non-Varsity'], ['AAAAAA', 'AAAAA'])"
   ]
  },
  {
   "cell_type": "markdown",
   "metadata": {},
   "source": [
    "# Find Rows by Selection Title"
   ]
  },
  {
   "cell_type": "code",
   "execution_count": 199,
   "metadata": {},
   "outputs": [
    {
     "data": {
      "text/html": [
       "<div>\n",
       "<style scoped>\n",
       "    .dataframe tbody tr th:only-of-type {\n",
       "        vertical-align: middle;\n",
       "    }\n",
       "\n",
       "    .dataframe tbody tr th {\n",
       "        vertical-align: top;\n",
       "    }\n",
       "\n",
       "    .dataframe thead th {\n",
       "        text-align: right;\n",
       "    }\n",
       "</style>\n",
       "<table border=\"1\" class=\"dataframe\">\n",
       "  <thead>\n",
       "    <tr style=\"text-align: right;\">\n",
       "      <th></th>\n",
       "      <th>Unnamed: 0</th>\n",
       "      <th>School</th>\n",
       "      <th>City</th>\n",
       "      <th>Directors</th>\n",
       "      <th>Conference</th>\n",
       "      <th>Classification</th>\n",
       "      <th>Year</th>\n",
       "      <th>ID</th>\n",
       "      <th>Stage Judge 1</th>\n",
       "      <th>Stage Judge 2</th>\n",
       "      <th>...</th>\n",
       "      <th>Stage Final</th>\n",
       "      <th>SR Judge 1</th>\n",
       "      <th>SR Judge 2</th>\n",
       "      <th>SR Judge 3</th>\n",
       "      <th>SR Final</th>\n",
       "      <th>Award</th>\n",
       "      <th>Selection 1</th>\n",
       "      <th>Selection 2</th>\n",
       "      <th>Selection 3</th>\n",
       "      <th>Stage Average</th>\n",
       "    </tr>\n",
       "  </thead>\n",
       "  <tbody>\n",
       "    <tr>\n",
       "      <th>64</th>\n",
       "      <td>29696</td>\n",
       "      <td>McCallum High School</td>\n",
       "      <td>Austin</td>\n",
       "      <td>Carol Nelson</td>\n",
       "      <td>AAAA</td>\n",
       "      <td>Varsity</td>\n",
       "      <td>2005</td>\n",
       "      <td>13924</td>\n",
       "      <td>1.0</td>\n",
       "      <td>1.0</td>\n",
       "      <td>...</td>\n",
       "      <td>1.0</td>\n",
       "      <td>1.0</td>\n",
       "      <td>1.0</td>\n",
       "      <td>1.0</td>\n",
       "      <td>1.0</td>\n",
       "      <td>SWA</td>\n",
       "      <td>The Melody Shop</td>\n",
       "      <td>Push</td>\n",
       "      <td>Mars</td>\n",
       "      <td>1.000000</td>\n",
       "    </tr>\n",
       "    <tr>\n",
       "      <th>101</th>\n",
       "      <td>29550</td>\n",
       "      <td>Victoria Memorial High School</td>\n",
       "      <td>Victoria</td>\n",
       "      <td>Phillip J. Mikula</td>\n",
       "      <td>AAAAA</td>\n",
       "      <td>Varsity</td>\n",
       "      <td>2005</td>\n",
       "      <td>17593</td>\n",
       "      <td>1.0</td>\n",
       "      <td>1.0</td>\n",
       "      <td>...</td>\n",
       "      <td>1.0</td>\n",
       "      <td>1.0</td>\n",
       "      <td>1.0</td>\n",
       "      <td>1.0</td>\n",
       "      <td>1.0</td>\n",
       "      <td>RMA</td>\n",
       "      <td>The Melody Shop March</td>\n",
       "      <td>A Hymn for The Lost And The Living</td>\n",
       "      <td>Niagara Falls</td>\n",
       "      <td>1.000000</td>\n",
       "    </tr>\n",
       "    <tr>\n",
       "      <th>1351</th>\n",
       "      <td>30229</td>\n",
       "      <td>Sherman High School</td>\n",
       "      <td>Sherman</td>\n",
       "      <td>Jeff Bradford</td>\n",
       "      <td>AAAA</td>\n",
       "      <td>Varsity</td>\n",
       "      <td>2005</td>\n",
       "      <td>13116</td>\n",
       "      <td>1.0</td>\n",
       "      <td>1.0</td>\n",
       "      <td>...</td>\n",
       "      <td>1.0</td>\n",
       "      <td>1.0</td>\n",
       "      <td>1.0</td>\n",
       "      <td>1.0</td>\n",
       "      <td>1.0</td>\n",
       "      <td>SW</td>\n",
       "      <td>Fantasies on a Theme by Haydn</td>\n",
       "      <td>La Procession du Rocio</td>\n",
       "      <td>The Melody Shop</td>\n",
       "      <td>1.000000</td>\n",
       "    </tr>\n",
       "    <tr>\n",
       "      <th>2762</th>\n",
       "      <td>32006</td>\n",
       "      <td>Birdville High School</td>\n",
       "      <td>North Richland Hills</td>\n",
       "      <td>Brian Gibbs/Paul Heuer/Dwayne Rice</td>\n",
       "      <td>AAAA</td>\n",
       "      <td>Varsity</td>\n",
       "      <td>2006</td>\n",
       "      <td>22335</td>\n",
       "      <td>1.0</td>\n",
       "      <td>1.0</td>\n",
       "      <td>...</td>\n",
       "      <td>1.0</td>\n",
       "      <td>1.0</td>\n",
       "      <td>1.0</td>\n",
       "      <td>1.0</td>\n",
       "      <td>1.0</td>\n",
       "      <td>RMA</td>\n",
       "      <td>The Melody Shop March</td>\n",
       "      <td>Buckaroo Holiday from Rodeo</td>\n",
       "      <td>Rocky Point Holiday</td>\n",
       "      <td>1.000000</td>\n",
       "    </tr>\n",
       "    <tr>\n",
       "      <th>2828</th>\n",
       "      <td>31793</td>\n",
       "      <td>Lake Highlands High School</td>\n",
       "      <td>Dallas</td>\n",
       "      <td>Joshua Blankenship</td>\n",
       "      <td>AAAAA</td>\n",
       "      <td>Varsity</td>\n",
       "      <td>2006</td>\n",
       "      <td>21634</td>\n",
       "      <td>2.0</td>\n",
       "      <td>2.0</td>\n",
       "      <td>...</td>\n",
       "      <td>2.0</td>\n",
       "      <td>1.0</td>\n",
       "      <td>1.0</td>\n",
       "      <td>1.0</td>\n",
       "      <td>1.0</td>\n",
       "      <td></td>\n",
       "      <td>Symphonic Metamorphosis</td>\n",
       "      <td>When Jesus Wept</td>\n",
       "      <td>The Melody Shop</td>\n",
       "      <td>1.666667</td>\n",
       "    </tr>\n",
       "    <tr>\n",
       "      <th>...</th>\n",
       "      <td>...</td>\n",
       "      <td>...</td>\n",
       "      <td>...</td>\n",
       "      <td>...</td>\n",
       "      <td>...</td>\n",
       "      <td>...</td>\n",
       "      <td>...</td>\n",
       "      <td>...</td>\n",
       "      <td>...</td>\n",
       "      <td>...</td>\n",
       "      <td>...</td>\n",
       "      <td>...</td>\n",
       "      <td>...</td>\n",
       "      <td>...</td>\n",
       "      <td>...</td>\n",
       "      <td>...</td>\n",
       "      <td>...</td>\n",
       "      <td>...</td>\n",
       "      <td>...</td>\n",
       "      <td>...</td>\n",
       "      <td>...</td>\n",
       "    </tr>\n",
       "    <tr>\n",
       "      <th>59212</th>\n",
       "      <td>54520</td>\n",
       "      <td>Legacy High School</td>\n",
       "      <td>Mansfield</td>\n",
       "      <td>Andrew Nance / Christopher Monasmith, Chris V...</td>\n",
       "      <td>AAAAA</td>\n",
       "      <td>Varsity</td>\n",
       "      <td>2022</td>\n",
       "      <td>176326</td>\n",
       "      <td>1.0</td>\n",
       "      <td>1.0</td>\n",
       "      <td>...</td>\n",
       "      <td>1.0</td>\n",
       "      <td>1.0</td>\n",
       "      <td>1.0</td>\n",
       "      <td>1.0</td>\n",
       "      <td>1.0</td>\n",
       "      <td>A</td>\n",
       "      <td>The Melody Shop</td>\n",
       "      <td>Elsas Procession to the Cathedral</td>\n",
       "      <td>The Speed of Heat</td>\n",
       "      <td>1.000000</td>\n",
       "    </tr>\n",
       "    <tr>\n",
       "      <th>59324</th>\n",
       "      <td>54368</td>\n",
       "      <td>Lake Travis High School</td>\n",
       "      <td>Austin</td>\n",
       "      <td>Richard Hicks / Taylor Trevino, Lance Brightw...</td>\n",
       "      <td>AAAAAA</td>\n",
       "      <td>Varsity</td>\n",
       "      <td>2022</td>\n",
       "      <td>176168</td>\n",
       "      <td>1.0</td>\n",
       "      <td>1.0</td>\n",
       "      <td>...</td>\n",
       "      <td>1.0</td>\n",
       "      <td>1.0</td>\n",
       "      <td>1.0</td>\n",
       "      <td>1.0</td>\n",
       "      <td>1.0</td>\n",
       "      <td>A</td>\n",
       "      <td>The Melody Shop</td>\n",
       "      <td>Frozen Cathedral</td>\n",
       "      <td>Symphonie Fantastique - Dream of a Witches Sab...</td>\n",
       "      <td>1.000000</td>\n",
       "    </tr>\n",
       "    <tr>\n",
       "      <th>59698</th>\n",
       "      <td>53788</td>\n",
       "      <td>Foster High School</td>\n",
       "      <td>Richmond</td>\n",
       "      <td>Erich Sonnier / Brian Allmond, Jeremiah Salis...</td>\n",
       "      <td>AAAAA</td>\n",
       "      <td>Varsity</td>\n",
       "      <td>2022</td>\n",
       "      <td>177627</td>\n",
       "      <td>1.0</td>\n",
       "      <td>1.0</td>\n",
       "      <td>...</td>\n",
       "      <td>1.0</td>\n",
       "      <td>1.0</td>\n",
       "      <td>1.0</td>\n",
       "      <td>1.0</td>\n",
       "      <td>1.0</td>\n",
       "      <td>A</td>\n",
       "      <td>The Melody Shop</td>\n",
       "      <td>Ride</td>\n",
       "      <td>Acadiana</td>\n",
       "      <td>1.000000</td>\n",
       "    </tr>\n",
       "    <tr>\n",
       "      <th>59933</th>\n",
       "      <td>18762</td>\n",
       "      <td>Round Rock High School</td>\n",
       "      <td>Round Rock</td>\n",
       "      <td>Brittany Graham / Steve Roeder</td>\n",
       "      <td>AAAAAA</td>\n",
       "      <td>Non-Varsity</td>\n",
       "      <td>2022</td>\n",
       "      <td>174111</td>\n",
       "      <td>1.0</td>\n",
       "      <td>1.0</td>\n",
       "      <td>...</td>\n",
       "      <td>1.0</td>\n",
       "      <td>1.0</td>\n",
       "      <td>1.0</td>\n",
       "      <td>1.0</td>\n",
       "      <td>1.0</td>\n",
       "      <td>C</td>\n",
       "      <td>The Melody Shop</td>\n",
       "      <td>O Magnum Mysterium</td>\n",
       "      <td>Until the Scars</td>\n",
       "      <td>1.000000</td>\n",
       "    </tr>\n",
       "    <tr>\n",
       "      <th>60132</th>\n",
       "      <td>14794</td>\n",
       "      <td>Jasper High School</td>\n",
       "      <td>Plano</td>\n",
       "      <td>Elyse Lim / Kyle Johnson</td>\n",
       "      <td>AAAAAA</td>\n",
       "      <td>Non-Varsity</td>\n",
       "      <td>2022</td>\n",
       "      <td>177263</td>\n",
       "      <td>1.0</td>\n",
       "      <td>2.0</td>\n",
       "      <td>...</td>\n",
       "      <td>2.0</td>\n",
       "      <td>1.0</td>\n",
       "      <td>1.0</td>\n",
       "      <td>1.0</td>\n",
       "      <td>1.0</td>\n",
       "      <td>2</td>\n",
       "      <td>La Procession du Rocio</td>\n",
       "      <td>The Melody Shop</td>\n",
       "      <td>Strange Humors</td>\n",
       "      <td>1.666667</td>\n",
       "    </tr>\n",
       "  </tbody>\n",
       "</table>\n",
       "<p>105 rows × 21 columns</p>\n",
       "</div>"
      ],
      "text/plain": [
       "       Unnamed: 0                          School                   City  \\\n",
       "64          29696            McCallum High School                 Austin   \n",
       "101         29550   Victoria Memorial High School               Victoria   \n",
       "1351        30229             Sherman High School                Sherman   \n",
       "2762        32006           Birdville High School   North Richland Hills   \n",
       "2828        31793      Lake Highlands High School                 Dallas   \n",
       "...           ...                             ...                    ...   \n",
       "59212       54520              Legacy High School              Mansfield   \n",
       "59324       54368         Lake Travis High School                 Austin   \n",
       "59698       53788              Foster High School               Richmond   \n",
       "59933       18762          Round Rock High School             Round Rock   \n",
       "60132       14794              Jasper High School                  Plano   \n",
       "\n",
       "                                               Directors Conference  \\\n",
       "64                                          Carol Nelson       AAAA   \n",
       "101                                    Phillip J. Mikula      AAAAA   \n",
       "1351                                       Jeff Bradford       AAAA   \n",
       "2762                  Brian Gibbs/Paul Heuer/Dwayne Rice       AAAA   \n",
       "2828                                  Joshua Blankenship      AAAAA   \n",
       "...                                                  ...        ...   \n",
       "59212   Andrew Nance / Christopher Monasmith, Chris V...      AAAAA   \n",
       "59324   Richard Hicks / Taylor Trevino, Lance Brightw...     AAAAAA   \n",
       "59698   Erich Sonnier / Brian Allmond, Jeremiah Salis...      AAAAA   \n",
       "59933                     Brittany Graham / Steve Roeder     AAAAAA   \n",
       "60132                           Elyse Lim / Kyle Johnson     AAAAAA   \n",
       "\n",
       "      Classification  Year      ID  Stage Judge 1  Stage Judge 2  ...  \\\n",
       "64           Varsity  2005   13924            1.0            1.0  ...   \n",
       "101          Varsity  2005   17593            1.0            1.0  ...   \n",
       "1351         Varsity  2005   13116            1.0            1.0  ...   \n",
       "2762         Varsity  2006   22335            1.0            1.0  ...   \n",
       "2828         Varsity  2006   21634            2.0            2.0  ...   \n",
       "...              ...   ...     ...            ...            ...  ...   \n",
       "59212        Varsity  2022  176326            1.0            1.0  ...   \n",
       "59324        Varsity  2022  176168            1.0            1.0  ...   \n",
       "59698        Varsity  2022  177627            1.0            1.0  ...   \n",
       "59933    Non-Varsity  2022  174111            1.0            1.0  ...   \n",
       "60132    Non-Varsity  2022  177263            1.0            2.0  ...   \n",
       "\n",
       "       Stage Final  SR Judge 1  SR Judge 2  SR Judge 3  SR Final  Award  \\\n",
       "64             1.0         1.0         1.0         1.0       1.0    SWA   \n",
       "101            1.0         1.0         1.0         1.0       1.0    RMA   \n",
       "1351           1.0         1.0         1.0         1.0       1.0     SW   \n",
       "2762           1.0         1.0         1.0         1.0       1.0    RMA   \n",
       "2828           2.0         1.0         1.0         1.0       1.0          \n",
       "...            ...         ...         ...         ...       ...    ...   \n",
       "59212          1.0         1.0         1.0         1.0       1.0      A   \n",
       "59324          1.0         1.0         1.0         1.0       1.0      A   \n",
       "59698          1.0         1.0         1.0         1.0       1.0      A   \n",
       "59933          1.0         1.0         1.0         1.0       1.0      C   \n",
       "60132          2.0         1.0         1.0         1.0       1.0      2   \n",
       "\n",
       "                         Selection 1                         Selection 2  \\\n",
       "64                   The Melody Shop                                Push   \n",
       "101            The Melody Shop March  A Hymn for The Lost And The Living   \n",
       "1351   Fantasies on a Theme by Haydn              La Procession du Rocio   \n",
       "2762           The Melody Shop March         Buckaroo Holiday from Rodeo   \n",
       "2828         Symphonic Metamorphosis                     When Jesus Wept   \n",
       "...                              ...                                 ...   \n",
       "59212                The Melody Shop   Elsas Procession to the Cathedral   \n",
       "59324                The Melody Shop                    Frozen Cathedral   \n",
       "59698                The Melody Shop                                Ride   \n",
       "59933                The Melody Shop                  O Magnum Mysterium   \n",
       "60132         La Procession du Rocio                     The Melody Shop   \n",
       "\n",
       "                                             Selection 3 Stage Average  \n",
       "64                                                  Mars      1.000000  \n",
       "101                                        Niagara Falls      1.000000  \n",
       "1351                                     The Melody Shop      1.000000  \n",
       "2762                                 Rocky Point Holiday      1.000000  \n",
       "2828                                     The Melody Shop      1.666667  \n",
       "...                                                  ...           ...  \n",
       "59212                                  The Speed of Heat      1.000000  \n",
       "59324  Symphonie Fantastique - Dream of a Witches Sab...      1.000000  \n",
       "59698                                           Acadiana      1.000000  \n",
       "59933                                    Until the Scars      1.000000  \n",
       "60132                                     Strange Humors      1.666667  \n",
       "\n",
       "[105 rows x 21 columns]"
      ]
     },
     "execution_count": 199,
     "metadata": {},
     "output_type": "execute_result"
    }
   ],
   "source": [
    "# Combine all rows where any selection contains the search term\n",
    "def selection_finder(selection, d=df, y=year_list, cl=class_list, co=conf_list):\n",
    "    df_grabber = d\n",
    "    df_grabber = df_grabber[pd.DataFrame(df_grabber.Year.to_list()).isin(y).any(1).values]\n",
    "    df_grabber = df_grabber[pd.DataFrame(df_grabber.Classification.to_list()).isin(cl).any(1).values]\n",
    "    df_grabber = df_grabber[pd.DataFrame(df_grabber.Conference.to_list()).isin(co).any(1).values]\n",
    "    finder_df = df[(df['Selection 1'].str.contains(selection)) | (df['Selection 2'].str.contains(selection)) | (df['Selection 3'].str.contains(selection))]\n",
    "    return finder_df\n",
    "\n",
    "selection = 'Melody Shop'\n",
    "\n",
    "selection_finder_df = selection_finder(selection, df, [2022], class_list, conf_list)\n",
    "selection_finder_df"
   ]
  },
  {
   "cell_type": "code",
   "execution_count": 185,
   "metadata": {},
   "outputs": [
    {
     "data": {
      "image/png": "[encoded data removed]",
      "text/plain": [
       "<Figure size 432x288 with 1 Axes>"
      ]
     },
     "metadata": {
      "needs_background": "light"
     },
     "output_type": "display_data"
    }
   ],
   "source": [
    "selection = 'Moscow 1941'\n",
    "yearly_count_values = []\n",
    "selection_finder_df = df\n",
    "\n",
    "for y in year_list:\n",
    "    selection_finder_df = selection_finder(selection, d=selection_finder_df, y=[y], cl=class_list, co=conf_list)\n",
    "    yearly_count_values.append(len(selection_finder_df))\n",
    "\n",
    "# make a line graph of the yearly count of selections\n",
    "def yearly_count_plotter(yearly_count_values):\n",
    "    fig, ax = plt.subplots()\n",
    "    ax.plot(yearly_count_values)\n",
    "    ax.set_title(f'Popularity count of {selection}')\n",
    "    ax.set_xlabel('Year')\n",
    "    ax.set_ylabel('Count')\n",
    "    # set number of ticks on x-axis to match len(year_list)\n",
    "    ax.set_xticks(range(len(year_list)))\n",
    "    # set x labels to year_list\n",
    "    ax.set_xticklabels(year_list)\n",
    "    # rotate x-axis labels\n",
    "    plt.setp(ax.get_xticklabels(), rotation=45, ha=\"right\", rotation_mode=\"anchor\")\n",
    "    plt.show()\n",
    "\n",
    "yearly_count_plotter(yearly_count_values)"
   ]
  },
  {
   "cell_type": "markdown",
   "metadata": {},
   "source": [
    "# Find Rows by Directors"
   ]
  },
  {
   "cell_type": "code",
   "execution_count": null,
   "metadata": {},
   "outputs": [],
   "source": [
    "def director_finder(director, df):\n",
    "    finder_df = df[df['Directors'].str.contains(director)]\n",
    "    return finder_df\n",
    "\n",
    "director = 'Kevin MacDonald'\n",
    "df_for_search = df\n",
    "\n",
    "director_finder_df = director_finder(director, df_for_search)\n",
    "director_finder_df.sort_values(by='Stage Average', ascending=False)"
   ]
  },
  {
   "cell_type": "code",
   "execution_count": null,
   "metadata": {},
   "outputs": [],
   "source": [
    "director_score = director_finder_df['Stage Average'].mean()\n",
    "director_score"
   ]
  },
  {
   "cell_type": "markdown",
   "metadata": {},
   "source": [
    "# Get the UIL ID for each selection"
   ]
  },
  {
   "cell_type": "code",
   "execution_count": null,
   "metadata": {},
   "outputs": [],
   "source": [
    "# combine the pml_df columns title and composer into a single column\n",
    "pml_df['Full Selection'] = pml_df['Title'] + ' - ' + pml_df['Composer']"
   ]
  },
  {
   "cell_type": "markdown",
   "metadata": {},
   "source": [
    "# Saved cells for reference"
   ]
  },
  {
   "cell_type": "markdown",
   "metadata": {},
   "source": [
    "## Cleaning the selections"
   ]
  },
  {
   "cell_type": "code",
   "execution_count": null,
   "metadata": {},
   "outputs": [],
   "source": [
    "# Make a single list containing all unique selections\n",
    "\n",
    "# Select all 'Selection 1' rows as a list\n",
    "selection_1_list = df['Selection 1'].tolist()\n",
    "# Select all 'Selection 2' rows\n",
    "selection_2_list = df['Selection 2'].tolist()\n",
    "# Select all 'Selection 3' rows\n",
    "selection_3_list = df['Selection 3'].tolist()\n",
    "# combine selection 1, 2, and 3 into one list\n",
    "full_selection_df = pd.DataFrame(selection_1_list + selection_2_list + selection_3_list)\n",
    "\n",
    "# Drop duplicates and export as list\n",
    "full_selection_df = full_selection_df.drop_duplicates()\n",
    "full_selection_list = full_selection_df[0].tolist()\n",
    "len(full_selection_list)"
   ]
  },
  {
   "cell_type": "code",
   "execution_count": null,
   "metadata": {},
   "outputs": [],
   "source": [
    "# Move text within parentheses to a new column\n",
    "full_selection_list['Selection Name'] = full_selection_list['Full Selection'].str.extract(r'(.*?)\\(.*?\\)')\n",
    "# Take full selection and move text within parentheses to a new column\n",
    "full_selection_list['Composer Name'] = full_selection_list['Full Selection'].str.extract(r'\\((.*)\\)')\n",
    "full_selection_list\n"
   ]
  },
  {
   "cell_type": "code",
   "execution_count": 20,
   "metadata": {},
   "outputs": [
    {
     "data": {
      "text/plain": [
       "Unnamed: 0          int64\n",
       "School             object\n",
       "City               object\n",
       "Directors          object\n",
       "Conference         object\n",
       "Classification     object\n",
       "Year                int64\n",
       "ID                  int64\n",
       "Stage Judge 1     float64\n",
       "Stage Judge 2     float64\n",
       "Stage Judge 3     float64\n",
       "Stage Final       float64\n",
       "SR Judge 1        float64\n",
       "SR Judge 2        float64\n",
       "SR Judge 3        float64\n",
       "SR Final          float64\n",
       "Award              object\n",
       "Selection 1        object\n",
       "Selection 2        object\n",
       "Selection 3        object\n",
       "Stage Average     float64\n",
       "dtype: object"
      ]
     },
     "execution_count": 20,
     "metadata": {},
     "output_type": "execute_result"
    }
   ],
   "source": [
    "df.dtypes"
   ]
  },
  {
   "cell_type": "code",
   "execution_count": null,
   "metadata": {},
   "outputs": [],
   "source": [
    "# Create a new column to fuzzy match df['Selection 1'] to pml_df['Full Selection']\n",
    "#df['Selection 1 Match'] = df['Selection 1'].apply(lambda x: process.extractOne(x, pml_df['Full Selection'])[0])\n",
    "#df['Selection 2 Match'] = df['Selection 2'].apply(lambda x: process.extractOne(x, pml_df['Full Selection'])[0]) \n",
    "#df['Selection 3 Match'] = df['Selection 3'].apply(lambda x: process.extractOne(x, pml_df['Full Selection'])[0])"
   ]
  }
 ],
 "metadata": {
  "kernelspec": {
   "display_name": "Python 3.9.12 ('base')",
   "language": "python",
   "name": "python3"
  },
  "language_info": {
   "codemirror_mode": {
    "name": "ipython",
    "version": 3
   },
   "file_extension": ".py",
   "mimetype": "text/x-python",
   "name": "python",
   "nbconvert_exporter": "python",
   "pygments_lexer": "ipython3",
   "version": "3.9.12"
  },
  "orig_nbformat": 4,
  "vscode": {
   "interpreter": {
    "hash": "70b4dc00a302d4d83b11a35e43215ace7772a57f7f877647638d579a5e5b7b94"
   }
  }
 },
 "nbformat": 4,
 "nbformat_minor": 2
}
