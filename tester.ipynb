{
 "cells": [
  {
   "cell_type": "code",
   "execution_count": 12,
   "metadata": {},
   "outputs": [],
   "source": [
    "from selenium import webdriver\n",
    "from selenium.webdriver.chrome.service import Service as ChromeService\n",
    "from webdriver_manager.chrome import ChromeDriverManager\n",
    "from selenium.webdriver.common.by import By\n",
    "import pandas as pd\n",
    "import glob\n",
    "import os"
   ]
  },
  {
   "cell_type": "code",
   "execution_count": 34,
   "metadata": {},
   "outputs": [
    {
     "name": "stderr",
     "output_type": "stream",
     "text": [
      "/var/folders/x1/n3nh_d4s0pbdzprdkd4p75yr0000gn/T/ipykernel_47470/4159919724.py:3: DeprecationWarning: executable_path has been deprecated, please pass in a Service object\n",
      "  driver = webdriver.Chrome(\"/Users/macdkw/Downloads/chromedriver\")\n"
     ]
    }
   ],
   "source": [
    "# set up the driver\n",
    "service = ChromeService(executable_path=ChromeDriverManager().install())\n",
    "driver = webdriver.Chrome(\"/Users/macdkw/Downloads/chromedriver\")\n",
    "\n",
    "# Navigate to the page\n",
    "driver.get(\"https://www.texasmusicforms.com/csrrptUILpublic.asp\")\n",
    "driver.implicitly_wait(10)\n",
    "\n",
    "# find the drop down menus and fill them out\n",
    "year_menu = driver.find_element(by=By.NAME, value=\"yr\")\n",
    "region_menu = driver.find_element(by=By.NAME, value=\"reg\")\n",
    "event_menu = driver.find_element(by=By.NAME, value=\"ev\")\n",
    "\n",
    "# get the options for the drop down menus\n",
    "year_options = year_menu.find_elements(by=By.TAG_NAME, value=\"option\")\n",
    "region_options = region_menu.find_elements(by=By.TAG_NAME, value=\"option\")\n",
    "\n",
    "# create blank menu option lists\n",
    "year_list = []\n",
    "region_list = []\n",
    "contest_list = []\n",
    "\n",
    "# add year options to list\n",
    "for i in year_options:\n",
    "    year_list.append(i.get_attribute(\"value\"))\n",
    "\n",
    "# add region options to list\n",
    "for i in region_options:\n",
    "    region_list.append(i.get_attribute(\"value\"))\n",
    "\n",
    "# remove default value from year and region\n",
    "year_list.pop(0)\n",
    "region_list.pop(0)\n",
    "\n",
    "# fill out the year, region, and event menus\n",
    "year_menu.send_keys(year_list[0])\n",
    "region_menu.send_keys(f\"Region {region_list[0]}\")\n",
    "event_menu.send_keys(\"Band\")\n",
    "\n",
    "\n",
    "# find the hidden drop down menu, and collect its contents\n",
    "contest_menu = driver.find_element(by=By.NAME, value=\"cn\")\n",
    "\n",
    "# get the options for the hidden drop down menu\n",
    "contest_options = contest_menu.find_elements(by=By.TAG_NAME, value=\"option\")\n",
    "\n",
    "# add contest options to list\n",
    "for i in contest_options:\n",
    "    contest_list.append(i.get_attribute(\"text\"))\n",
    "\n",
    "contest_list.pop(0)\n",
    "contest_menu.send_keys(contest_list[0])\n",
    "\n",
    "\n",
    "\n",
    "\n",
    "\n"
   ]
  },
  {
   "cell_type": "code",
   "execution_count": null,
   "metadata": {},
   "outputs": [],
   "source": []
  }
 ],
 "metadata": {
  "kernelspec": {
   "display_name": "Python 3.9.12 ('base')",
   "language": "python",
   "name": "python3"
  },
  "language_info": {
   "codemirror_mode": {
    "name": "ipython",
    "version": 3
   },
   "file_extension": ".py",
   "mimetype": "text/x-python",
   "name": "python",
   "nbconvert_exporter": "python",
   "pygments_lexer": "ipython3",
   "version": "3.9.12"
  },
  "orig_nbformat": 4,
  "vscode": {
   "interpreter": {
    "hash": "4ed6f7a70038df12c1f9698ba9468b0df49c60f3c47a7730587b10e5a8bf5b55"
   }
  }
 },
 "nbformat": 4,
 "nbformat_minor": 2
}
