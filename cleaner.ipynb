{
 "cells": [
  {
   "cell_type": "code",
   "execution_count": 22,
   "metadata": {},
   "outputs": [],
   "source": [
    "from selenium import webdriver\n",
    "from selenium.webdriver.chrome.service import Service as ChromeService\n",
    "from webdriver_manager.chrome import ChromeDriverManager\n",
    "from selenium.webdriver.common.by import By\n",
    "import numpy as np\n",
    "import pandas as pd\n",
    "import glob\n",
    "import os\n",
    "import matplotlib.pyplot as plt"
   ]
  },
  {
   "cell_type": "code",
   "execution_count": 23,
   "metadata": {},
   "outputs": [],
   "source": [
    "### Define column headers for csv export\n",
    "columns_21 = ['Event', 'School', 'TEA', 'City', 'Directors', 'Conference', 'Classification', 'Year', 'ID', \n",
    "    'Stage Judge 1', 'Stage Judge 2', 'Stage Judge 3', 'Stage Final', \n",
    "    'SR Judge 1', 'SR Judge 2', 'SR Judge 3', 'SR Final', 'Award', \n",
    "    'Selection 1', 'Selection 2', 'Selection 3']\n",
    "columns_22 = ['Event', 'School', 'TEA', 'City', 'Directors', 'Conference', 'Classification', 'Year', 'ID', \n",
    "    'Stage Judge 1', 'Stage Judge 2', 'Stage Judge 3', 'Stage Final', \n",
    "    'SR Judge 1', 'SR Judge 2', 'SR Judge 3', 'SR Final', 'Award', \n",
    "    'Selection 1', 'Selection 2', 'Selection 3', 'oops']"
   ]
  },
  {
   "cell_type": "markdown",
   "metadata": {},
   "source": [
    "## Group the CSVs together, and fix rows with Accompanist error"
   ]
  },
  {
   "cell_type": "code",
   "execution_count": 24,
   "metadata": {},
   "outputs": [
    {
     "data": {
      "text/html": [
       "<div>\n",
       "<style scoped>\n",
       "    .dataframe tbody tr th:only-of-type {\n",
       "        vertical-align: middle;\n",
       "    }\n",
       "\n",
       "    .dataframe tbody tr th {\n",
       "        vertical-align: top;\n",
       "    }\n",
       "\n",
       "    .dataframe thead th {\n",
       "        text-align: right;\n",
       "    }\n",
       "</style>\n",
       "<table border=\"1\" class=\"dataframe\">\n",
       "  <thead>\n",
       "    <tr style=\"text-align: right;\">\n",
       "      <th></th>\n",
       "      <th>Event</th>\n",
       "      <th>School</th>\n",
       "      <th>TEA</th>\n",
       "      <th>City</th>\n",
       "      <th>Directors</th>\n",
       "      <th>Conference</th>\n",
       "      <th>Classification</th>\n",
       "      <th>Year</th>\n",
       "      <th>ID</th>\n",
       "      <th>Stage Judge 1</th>\n",
       "      <th>...</th>\n",
       "      <th>Stage Judge 3</th>\n",
       "      <th>Stage Final</th>\n",
       "      <th>SR Judge 1</th>\n",
       "      <th>SR Judge 2</th>\n",
       "      <th>SR Judge 3</th>\n",
       "      <th>SR Final</th>\n",
       "      <th>Award</th>\n",
       "      <th>Selection 1</th>\n",
       "      <th>Selection 2</th>\n",
       "      <th>Selection 3</th>\n",
       "    </tr>\n",
       "  </thead>\n",
       "  <tbody>\n",
       "    <tr>\n",
       "      <th>count</th>\n",
       "      <td>60652</td>\n",
       "      <td>60652</td>\n",
       "      <td>60652</td>\n",
       "      <td>60652</td>\n",
       "      <td>60652</td>\n",
       "      <td>60652</td>\n",
       "      <td>60652</td>\n",
       "      <td>60652</td>\n",
       "      <td>60652</td>\n",
       "      <td>60652</td>\n",
       "      <td>...</td>\n",
       "      <td>60652</td>\n",
       "      <td>60652</td>\n",
       "      <td>60652</td>\n",
       "      <td>60652</td>\n",
       "      <td>60652</td>\n",
       "      <td>60652</td>\n",
       "      <td>60652</td>\n",
       "      <td>60652</td>\n",
       "      <td>60652</td>\n",
       "      <td>60474</td>\n",
       "    </tr>\n",
       "    <tr>\n",
       "      <th>unique</th>\n",
       "      <td>1</td>\n",
       "      <td>6225</td>\n",
       "      <td>2371</td>\n",
       "      <td>1496</td>\n",
       "      <td>24430</td>\n",
       "      <td>28</td>\n",
       "      <td>39</td>\n",
       "      <td>210</td>\n",
       "      <td>60480</td>\n",
       "      <td>13</td>\n",
       "      <td>...</td>\n",
       "      <td>13</td>\n",
       "      <td>13</td>\n",
       "      <td>13</td>\n",
       "      <td>13</td>\n",
       "      <td>13</td>\n",
       "      <td>30</td>\n",
       "      <td>256</td>\n",
       "      <td>19426</td>\n",
       "      <td>8965</td>\n",
       "      <td>11786</td>\n",
       "    </tr>\n",
       "    <tr>\n",
       "      <th>top</th>\n",
       "      <td>100-Concert Band</td>\n",
       "      <td>Allen High School</td>\n",
       "      <td>TEA:</td>\n",
       "      <td>San Antonio</td>\n",
       "      <td>Joe Martinez</td>\n",
       "      <td>CC</td>\n",
       "      <td>Varsity</td>\n",
       "      <td>2019</td>\n",
       "      <td>1</td>\n",
       "      <td>1</td>\n",
       "      <td>...</td>\n",
       "      <td>1</td>\n",
       "      <td>1</td>\n",
       "      <td>1</td>\n",
       "      <td>1</td>\n",
       "      <td>1</td>\n",
       "      <td>1</td>\n",
       "      <td></td>\n",
       "      <td>Alamo March (King/Swearingen)</td>\n",
       "      <td>Colliding Visions  (Balmages/ )</td>\n",
       "      <td>Moscow, 1941  (Balmages)</td>\n",
       "    </tr>\n",
       "    <tr>\n",
       "      <th>freq</th>\n",
       "      <td>60652</td>\n",
       "      <td>112</td>\n",
       "      <td>56728</td>\n",
       "      <td>2882</td>\n",
       "      <td>29</td>\n",
       "      <td>14871</td>\n",
       "      <td>31121</td>\n",
       "      <td>3274</td>\n",
       "      <td>78</td>\n",
       "      <td>25793</td>\n",
       "      <td>...</td>\n",
       "      <td>25550</td>\n",
       "      <td>25918</td>\n",
       "      <td>27064</td>\n",
       "      <td>26962</td>\n",
       "      <td>26867</td>\n",
       "      <td>25587</td>\n",
       "      <td>19237</td>\n",
       "      <td>300</td>\n",
       "      <td>422</td>\n",
       "      <td>446</td>\n",
       "    </tr>\n",
       "  </tbody>\n",
       "</table>\n",
       "<p>4 rows × 21 columns</p>\n",
       "</div>"
      ],
      "text/plain": [
       "                    Event              School    TEA          City  \\\n",
       "count               60652               60652  60652         60652   \n",
       "unique                  1                6225   2371          1496   \n",
       "top      100-Concert Band   Allen High School   TEA:   San Antonio   \n",
       "freq                60652                 112  56728          2882   \n",
       "\n",
       "            Directors Conference Classification   Year     ID  Stage Judge 1  \\\n",
       "count           60652      60652          60652  60652  60652          60652   \n",
       "unique          24430         28             39    210  60480             13   \n",
       "top      Joe Martinez         CC       Varsity    2019      1              1   \n",
       "freq               29      14871          31121   3274     78          25793   \n",
       "\n",
       "        ...  Stage Judge 3  Stage Final  SR Judge 1  SR Judge 2  SR Judge 3  \\\n",
       "count   ...          60652        60652       60652       60652       60652   \n",
       "unique  ...             13           13          13          13          13   \n",
       "top     ...              1            1           1           1           1   \n",
       "freq    ...          25550        25918       27064       26962       26867   \n",
       "\n",
       "        SR Final  Award                     Selection 1  \\\n",
       "count      60652  60652                           60652   \n",
       "unique        30    256                           19426   \n",
       "top            1          Alamo March (King/Swearingen)   \n",
       "freq       25587  19237                             300   \n",
       "\n",
       "                             Selection 2                Selection 3  \n",
       "count                              60652                      60474  \n",
       "unique                              8965                      11786  \n",
       "top      Colliding Visions  (Balmages/ )   Moscow, 1941  (Balmages)  \n",
       "freq                                 422                        446  \n",
       "\n",
       "[4 rows x 21 columns]"
      ]
     },
     "execution_count": 24,
     "metadata": {},
     "output_type": "execute_result"
    }
   ],
   "source": [
    "# list of merged files returned\n",
    "files = glob.glob(\"full_run/*.csv\")\n",
    "\n",
    "# joining files with concat and read_csv\n",
    "df = pd.concat(map(pd.read_csv, files), ignore_index=True)\n",
    "df = pd.DataFrame(df)\n",
    "\n",
    "# drop unnamed column\n",
    "df.drop(columns=['Unnamed: 0'], inplace=True)\n",
    "\n",
    "# select rows with acc column \n",
    "oops_df = df[df['oops'].notnull()]\n",
    "\n",
    "# delete the acc columns and fix column names\n",
    "oops_fix_df = oops_df.drop(columns=['Conference'])\n",
    "oops_fix_df.columns = columns_21\n",
    "\n",
    "# drop acc rows from df\n",
    "df = df.loc[df['oops'].isnull() == True]\n",
    "\n",
    "# add fixed df to df\n",
    "df = pd.concat([df, oops_fix_df], ignore_index=True)\n",
    "\n",
    "# drop oops column\n",
    "df.drop(columns=['oops'], inplace=True)\n",
    "\n",
    "# drop rows where Event contains '9'\n",
    "df = df[df['Event'].str.contains('9') == False]\n",
    "\n",
    "df.describe()\n",
    "\n"
   ]
  },
  {
   "cell_type": "code",
   "execution_count": 25,
   "metadata": {},
   "outputs": [
    {
     "data": {
      "text/plain": [
       "60474"
      ]
     },
     "execution_count": 25,
     "metadata": {},
     "output_type": "execute_result"
    }
   ],
   "source": [
    "# select rows where selection 3 is null\n",
    "df_clean = df\n",
    "df_clean = df_clean[df_clean['Selection 3'].isnull() == False]\n",
    "len(df_clean)"
   ]
  },
  {
   "cell_type": "code",
   "execution_count": 26,
   "metadata": {},
   "outputs": [
    {
     "name": "stderr",
     "output_type": "stream",
     "text": [
      "c:\\Users\\macdk\\AppData\\Local\\Programs\\Python\\Python37\\lib\\site-packages\\ipykernel_launcher.py:5: SettingWithCopyWarning: \n",
      "A value is trying to be set on a copy of a slice from a DataFrame.\n",
      "Try using .loc[row_indexer,col_indexer] = value instead\n",
      "\n",
      "See the caveats in the documentation: https://pandas.pydata.org/pandas-docs/stable/user_guide/indexing.html#returning-a-view-versus-a-copy\n",
      "  \"\"\"\n",
      "c:\\Users\\macdk\\AppData\\Local\\Programs\\Python\\Python37\\lib\\site-packages\\ipykernel_launcher.py:6: SettingWithCopyWarning: \n",
      "A value is trying to be set on a copy of a slice from a DataFrame.\n",
      "Try using .loc[row_indexer,col_indexer] = value instead\n",
      "\n",
      "See the caveats in the documentation: https://pandas.pydata.org/pandas-docs/stable/user_guide/indexing.html#returning-a-view-versus-a-copy\n",
      "  \n",
      "c:\\Users\\macdk\\AppData\\Local\\Programs\\Python\\Python37\\lib\\site-packages\\ipykernel_launcher.py:7: SettingWithCopyWarning: \n",
      "A value is trying to be set on a copy of a slice from a DataFrame.\n",
      "Try using .loc[row_indexer,col_indexer] = value instead\n",
      "\n",
      "See the caveats in the documentation: https://pandas.pydata.org/pandas-docs/stable/user_guide/indexing.html#returning-a-view-versus-a-copy\n",
      "  import sys\n",
      "c:\\Users\\macdk\\AppData\\Local\\Programs\\Python\\Python37\\lib\\site-packages\\ipykernel_launcher.py:8: SettingWithCopyWarning: \n",
      "A value is trying to be set on a copy of a slice from a DataFrame.\n",
      "Try using .loc[row_indexer,col_indexer] = value instead\n",
      "\n",
      "See the caveats in the documentation: https://pandas.pydata.org/pandas-docs/stable/user_guide/indexing.html#returning-a-view-versus-a-copy\n",
      "  \n",
      "c:\\Users\\macdk\\AppData\\Local\\Programs\\Python\\Python37\\lib\\site-packages\\ipykernel_launcher.py:11: SettingWithCopyWarning: \n",
      "A value is trying to be set on a copy of a slice from a DataFrame.\n",
      "Try using .loc[row_indexer,col_indexer] = value instead\n",
      "\n",
      "See the caveats in the documentation: https://pandas.pydata.org/pandas-docs/stable/user_guide/indexing.html#returning-a-view-versus-a-copy\n",
      "  # This is added back by InteractiveShellApp.init_path()\n",
      "c:\\Users\\macdk\\AppData\\Local\\Programs\\Python\\Python37\\lib\\site-packages\\ipykernel_launcher.py:16: SettingWithCopyWarning: \n",
      "A value is trying to be set on a copy of a slice from a DataFrame.\n",
      "Try using .loc[row_indexer,col_indexer] = value instead\n",
      "\n",
      "See the caveats in the documentation: https://pandas.pydata.org/pandas-docs/stable/user_guide/indexing.html#returning-a-view-versus-a-copy\n",
      "  \n",
      "c:\\Users\\macdk\\AppData\\Local\\Programs\\Python\\Python37\\lib\\site-packages\\ipykernel_launcher.py:18: SettingWithCopyWarning: \n",
      "A value is trying to be set on a copy of a slice from a DataFrame.\n",
      "Try using .loc[row_indexer,col_indexer] = value instead\n",
      "\n",
      "See the caveats in the documentation: https://pandas.pydata.org/pandas-docs/stable/user_guide/indexing.html#returning-a-view-versus-a-copy\n"
     ]
    }
   ],
   "source": [
    "# Trim whitespace, double spaces, commas, and periods from selections\n",
    "selection_columns = ['Selection 1', 'Selection 2', 'Selection 3']\n",
    "\n",
    "for i in selection_columns:\n",
    "    df_clean[i] = df_clean[i].str.strip()\n",
    "    df_clean[i] = df_clean[i].str.replace('  ', ' ', regex=False)\n",
    "    df_clean[i] = df_clean[i].str.replace(',', '', regex=False)\n",
    "    df_clean[i] = df_clean[i].str.replace('.', '', regex=False)\n",
    "\n",
    "# Trim whitespace from classification column\n",
    "df_clean['Classification'] = df_clean['Classification'].str.strip()\n",
    "\n",
    "# Remove composer/arranger information from selections\n",
    "for column in selection_columns:\n",
    "    # remove all inside parenthesis\n",
    "    df_clean[column] = df_clean[column].str.replace('\\(.*\\)', '', regex=True)\n",
    "    # trim whitespace\n",
    "    df_clean[column] = df_clean[column].str.strip()"
   ]
  },
  {
   "cell_type": "code",
   "execution_count": 27,
   "metadata": {},
   "outputs": [],
   "source": [
    "# drop rows where conference contains 'Acc'\n",
    "df_clean = df_clean[df_clean['Conference'].str.contains('Acc') == False]\n"
   ]
  },
  {
   "cell_type": "code",
   "execution_count": 28,
   "metadata": {},
   "outputs": [],
   "source": [
    "# Fix names of some conferences\n",
    "df_clean['Conference'] = df_clean['Conference'].replace('2C', 'CC')\n",
    "df_clean['Conference'] = df_clean['Conference'].replace('4A', 'AAAA')\n",
    "df_clean['Conference'] = df_clean['Conference'].replace('cc', 'CC')\n",
    "df_clean['Conference'] = df_clean['Conference'].replace('1C', 'C')"
   ]
  },
  {
   "cell_type": "code",
   "execution_count": 29,
   "metadata": {},
   "outputs": [],
   "source": [
    "# Make df_clean column integers\n",
    "df_clean['Year'] = df_clean['Year'].astype(int)"
   ]
  },
  {
   "cell_type": "code",
   "execution_count": 30,
   "metadata": {},
   "outputs": [
    {
     "name": "stdout",
     "output_type": "stream",
     "text": [
      "['CC' 'AAA' 'C' 'CCC' 'AAAA' 'AA' 'A' 'AAAAA' 'BBB' 'BB' 'B' 'AAAAAA']\n",
      "['Varsity' 'Non-Varsity' 'Non-Varsity A' 'Non-Varsity B' 'Combined'\n",
      " 'Sub Non-Varsity' 'Sub Non-Varsity C' 'Sub Non-Varsity B'\n",
      " 'Sub Non-Varsity A' 'Non-Varsity C' 'Non-Varsity F' 'Sub Non-Varsity D'\n",
      " 'Sub Non-Varsity E' 'Non-Varsity E' 'Non-Varsity D' 'Var-Combined'\n",
      " 'Var-Composite' '' 'NVar-Composite' 'NVar-Combined' 'Sub Non-Varsity F'\n",
      " 'Varsity A' 'Varsity C' 'Varsity B' 'Sub Non-Varsity G' 'Var-Composite A'\n",
      " 'Sub Non-Varsity H' 'Sub Non-Varsity I' 'NVar-Composite A']\n",
      "[2005 2006 2007 2008 2009 2010 2011 2012 2013 2014 2015 2016 2017 2018\n",
      " 2019 2020 2021 2022]\n"
     ]
    }
   ],
   "source": [
    "print(df_clean['Conference'].unique())\n",
    "print(df_clean['Classification'].unique())\n",
    "print(df_clean['Year'].unique())"
   ]
  },
  {
   "cell_type": "code",
   "execution_count": 31,
   "metadata": {},
   "outputs": [],
   "source": [
    "# make a list of numbers 1 to 5 as strings\n",
    "judging_columns = ['Stage Judge 1', 'Stage Judge 2', 'Stage Judge 3', 'Stage Final', 'SR Judge 1', \n",
    "                'SR Judge 2', 'SR Judge 3', 'SR Final']\n",
    "numbers = ['1', '2', '3', '4', '5']\n",
    "\n",
    "for n in numbers:\n",
    "    for j in judging_columns:\n",
    "        df_clean.loc[df_clean[j] == n, j] = int(n)\n",
    "\n",
    "\n"
   ]
  },
  {
   "cell_type": "code",
   "execution_count": 32,
   "metadata": {},
   "outputs": [
    {
     "name": "stdout",
     "output_type": "stream",
     "text": [
      "[2 1 3 4 'DNA' ' ' 5 'DQ']\n",
      "[2 1 4 3 'DNA' ' ' 5 'DQ']\n",
      "[2 3 1 4 'DNA' ' ' 'DQ' 5]\n",
      "[2 1 3 4 'DNA' ' ' 5 'DQ']\n",
      "[1 2 3 4 5 'DNA' ' ' 'DQ']\n",
      "[1 2 3 4 'DNA' 5 ' ' 'DQ']\n",
      "[1 2 3 4 'DNA' 5 ' ' 'DQ']\n",
      "[1 2 3 4 'DNA' ' ' 5 'DQ' 11 'NAN' 0]\n"
     ]
    }
   ],
   "source": [
    "for j in judging_columns:\n",
    "    print(df_clean[j].unique())"
   ]
  },
  {
   "cell_type": "code",
   "execution_count": 33,
   "metadata": {},
   "outputs": [],
   "source": [
    "# Trim whitespace, double spaces, commas, and periods from selections\n",
    "selection_columns = ['Selection 1', 'Selection 2', 'Selection 3']\n",
    "\n",
    "for i in selection_columns:\n",
    "    df_clean[i] = df_clean[i].str.strip()\n",
    "    df_clean[i] = df_clean[i].str.replace('  ', ' ', regex=False)\n",
    "    df_clean[i] = df_clean[i].str.replace(',', '', regex=False)\n",
    "    df_clean[i] = df_clean[i].str.replace('.', '', regex=False)\n",
    "\n",
    "# Trim whitespace from classification column\n",
    "df_clean['Classification'] = df_clean['Classification'].str.strip()\n",
    "\n",
    "# Remove composer/arranger information from selections\n",
    "for column in selection_columns:\n",
    "    # remove all inside parenthesis\n",
    "    df_clean[column] = df_clean[column].str.replace('\\(.*\\)', '', regex=True)\n",
    "    # trim whitespace\n",
    "    df_clean[column] = df_clean[column].str.strip()\n"
   ]
  },
  {
   "cell_type": "code",
   "execution_count": 34,
   "metadata": {},
   "outputs": [
    {
     "data": {
      "text/html": [
       "<div>\n",
       "<style scoped>\n",
       "    .dataframe tbody tr th:only-of-type {\n",
       "        vertical-align: middle;\n",
       "    }\n",
       "\n",
       "    .dataframe tbody tr th {\n",
       "        vertical-align: top;\n",
       "    }\n",
       "\n",
       "    .dataframe thead th {\n",
       "        text-align: right;\n",
       "    }\n",
       "</style>\n",
       "<table border=\"1\" class=\"dataframe\">\n",
       "  <thead>\n",
       "    <tr style=\"text-align: right;\">\n",
       "      <th></th>\n",
       "      <th>Year</th>\n",
       "    </tr>\n",
       "  </thead>\n",
       "  <tbody>\n",
       "    <tr>\n",
       "      <th>count</th>\n",
       "      <td>60472.000000</td>\n",
       "    </tr>\n",
       "    <tr>\n",
       "      <th>mean</th>\n",
       "      <td>2014.072017</td>\n",
       "    </tr>\n",
       "    <tr>\n",
       "      <th>std</th>\n",
       "      <td>4.999944</td>\n",
       "    </tr>\n",
       "    <tr>\n",
       "      <th>min</th>\n",
       "      <td>2005.000000</td>\n",
       "    </tr>\n",
       "    <tr>\n",
       "      <th>25%</th>\n",
       "      <td>2010.000000</td>\n",
       "    </tr>\n",
       "    <tr>\n",
       "      <th>50%</th>\n",
       "      <td>2014.000000</td>\n",
       "    </tr>\n",
       "    <tr>\n",
       "      <th>75%</th>\n",
       "      <td>2018.000000</td>\n",
       "    </tr>\n",
       "    <tr>\n",
       "      <th>max</th>\n",
       "      <td>2022.000000</td>\n",
       "    </tr>\n",
       "  </tbody>\n",
       "</table>\n",
       "</div>"
      ],
      "text/plain": [
       "               Year\n",
       "count  60472.000000\n",
       "mean    2014.072017\n",
       "std        4.999944\n",
       "min     2005.000000\n",
       "25%     2010.000000\n",
       "50%     2014.000000\n",
       "75%     2018.000000\n",
       "max     2022.000000"
      ]
     },
     "execution_count": 34,
     "metadata": {},
     "output_type": "execute_result"
    }
   ],
   "source": [
    "df_clean.describe()"
   ]
  },
  {
   "cell_type": "code",
   "execution_count": 35,
   "metadata": {},
   "outputs": [],
   "source": [
    "df_clean.columns = df_clean.columns.str.strip()"
   ]
  },
  {
   "cell_type": "code",
   "execution_count": 36,
   "metadata": {},
   "outputs": [
    {
     "name": "stdout",
     "output_type": "stream",
     "text": [
      "60652\n"
     ]
    }
   ],
   "source": [
    "# Drop Event and TEA column\n",
    "df = df.drop(columns=['Event', 'TEA'])\n",
    "print(len(df))"
   ]
  },
  {
   "cell_type": "code",
   "execution_count": 37,
   "metadata": {},
   "outputs": [
    {
     "name": "stdout",
     "output_type": "stream",
     "text": [
      "59945\n"
     ]
    }
   ],
   "source": [
    "# Remove DNA, DQ\n",
    "for i in judging_columns:\n",
    "    df_clean = df_clean[df_clean[i] != 'DNA']\n",
    "    df_clean = df_clean[df_clean[i] != 'DQ']\n",
    "\n",
    "# Convert blanks to nans\n",
    "for i in judging_columns:\n",
    "    df_clean[i] = df_clean[i].replace(['', ' '], np.nan)\n",
    "\n",
    "print(len(df_clean))"
   ]
  },
  {
   "cell_type": "code",
   "execution_count": 38,
   "metadata": {},
   "outputs": [],
   "source": [
    "# Average together Stage Judge 1, 2, and 3 into a new column\n",
    "\n",
    "df_clean['Stage Average'] = (df_clean['Stage Judge 1'] + df_clean['Stage Judge 2'] + df_clean['Stage Judge 3']) / 3"
   ]
  },
  {
   "cell_type": "code",
   "execution_count": 39,
   "metadata": {},
   "outputs": [],
   "source": [
    "# sort df_clean by year\n",
    "df_clean.sort_values(by=['Year'], inplace=True)\n",
    "\n",
    "# drop Event column\n",
    "df_clean = df_clean.drop(columns=['Event'])\n",
    "\n",
    "# drop TEA column\n",
    "df_clean = df_clean.drop(columns=['TEA'])\n",
    "\n",
    "# drop ID column\n",
    "df_clean = df_clean.drop(columns=['ID'])\n",
    "\n",
    "# convert to csv\n",
    "df_clean.to_csv(\"csv_files/full_output.csv\")\n"
   ]
  },
  {
   "cell_type": "code",
   "execution_count": 40,
   "metadata": {},
   "outputs": [],
   "source": [
    "# import all of the pml csv files into a dataframe\n",
    "files = glob.glob(\"csv_files/pml/*.csv\")\n",
    "pml_df = pd.concat([pd.read_csv(f) for f in files], ignore_index=True)\n",
    "# convert pml_df to csv\n",
    "pml_df.to_csv(\"csv_files/pml_output.csv\")"
   ]
  },
  {
   "cell_type": "code",
   "execution_count": null,
   "metadata": {},
   "outputs": [],
   "source": []
  }
 ],
 "metadata": {
  "kernelspec": {
   "display_name": "Python 3.7.6 64-bit",
   "language": "python",
   "name": "python3"
  },
  "language_info": {
   "codemirror_mode": {
    "name": "ipython",
    "version": 3
   },
   "file_extension": ".py",
   "mimetype": "text/x-python",
   "name": "python",
   "nbconvert_exporter": "python",
   "pygments_lexer": "ipython3",
   "version": "3.7.6"
  },
  "orig_nbformat": 4,
  "vscode": {
   "interpreter": {
    "hash": "53babf5c189ad8a4933a2bd5063a1840a2c47c9b82a6c06a0d6cefa0137ac8c2"
   }
  }
 },
 "nbformat": 4,
 "nbformat_minor": 2
}
