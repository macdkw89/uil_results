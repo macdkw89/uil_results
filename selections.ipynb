{
 "cells": [
  {
   "cell_type": "code",
   "execution_count": 1,
   "metadata": {},
   "outputs": [],
   "source": [
    "import numpy as np\n",
    "import pandas as pd\n",
    "import glob\n",
    "import os\n",
    "import fuzzywuzzy as fuzz\n",
    "from fuzzywuzzy import process"
   ]
  },
  {
   "cell_type": "code",
   "execution_count": 2,
   "metadata": {},
   "outputs": [
    {
     "data": {
      "text/html": [
       "<div>\n",
       "<style scoped>\n",
       "    .dataframe tbody tr th:only-of-type {\n",
       "        vertical-align: middle;\n",
       "    }\n",
       "\n",
       "    .dataframe tbody tr th {\n",
       "        vertical-align: top;\n",
       "    }\n",
       "\n",
       "    .dataframe thead th {\n",
       "        text-align: right;\n",
       "    }\n",
       "</style>\n",
       "<table border=\"1\" class=\"dataframe\">\n",
       "  <thead>\n",
       "    <tr style=\"text-align: right;\">\n",
       "      <th></th>\n",
       "      <th>Unnamed: 0</th>\n",
       "      <th>Code</th>\n",
       "      <th>Event Name</th>\n",
       "      <th>Title</th>\n",
       "      <th>Composer</th>\n",
       "      <th>Arranger</th>\n",
       "      <th>Publisher [Collection]</th>\n",
       "      <th>Grade</th>\n",
       "      <th>Specification</th>\n",
       "    </tr>\n",
       "  </thead>\n",
       "  <tbody>\n",
       "    <tr>\n",
       "      <th>0</th>\n",
       "      <td>0</td>\n",
       "      <td>100-1-15192</td>\n",
       "      <td>Band</td>\n",
       "      <td>Chorale and Fugue in F Major</td>\n",
       "      <td>Bach</td>\n",
       "      <td>Daehn</td>\n",
       "      <td>Daehn Publications</td>\n",
       "      <td>1</td>\n",
       "      <td>(Chorale only)</td>\n",
       "    </tr>\n",
       "    <tr>\n",
       "      <th>1</th>\n",
       "      <td>1</td>\n",
       "      <td>100-1-15193</td>\n",
       "      <td>Band</td>\n",
       "      <td>Bartok Suite</td>\n",
       "      <td>Bartok</td>\n",
       "      <td>Clark</td>\n",
       "      <td>Belwin, Inc</td>\n",
       "      <td>1</td>\n",
       "      <td>NaN</td>\n",
       "    </tr>\n",
       "    <tr>\n",
       "      <th>2</th>\n",
       "      <td>2</td>\n",
       "      <td>100-1-15194</td>\n",
       "      <td>Band</td>\n",
       "      <td>Allegretto (from Symphony No. 7)</td>\n",
       "      <td>Beethoven</td>\n",
       "      <td>Court</td>\n",
       "      <td>Curnow Music</td>\n",
       "      <td>1</td>\n",
       "      <td>NaN</td>\n",
       "    </tr>\n",
       "    <tr>\n",
       "      <th>3</th>\n",
       "      <td>3</td>\n",
       "      <td>100-1-15198</td>\n",
       "      <td>Band</td>\n",
       "      <td>Theme and Variations</td>\n",
       "      <td>Broege</td>\n",
       "      <td>NaN</td>\n",
       "      <td>Manhattan Beach Music</td>\n",
       "      <td>1</td>\n",
       "      <td>NaN</td>\n",
       "    </tr>\n",
       "    <tr>\n",
       "      <th>4</th>\n",
       "      <td>4</td>\n",
       "      <td>100-1-15200</td>\n",
       "      <td>Band</td>\n",
       "      <td>La Volta</td>\n",
       "      <td>Byrd</td>\n",
       "      <td>Fenske</td>\n",
       "      <td>Daehn Publications</td>\n",
       "      <td>1</td>\n",
       "      <td>NaN</td>\n",
       "    </tr>\n",
       "    <tr>\n",
       "      <th>...</th>\n",
       "      <td>...</td>\n",
       "      <td>...</td>\n",
       "      <td>...</td>\n",
       "      <td>...</td>\n",
       "      <td>...</td>\n",
       "      <td>...</td>\n",
       "      <td>...</td>\n",
       "      <td>...</td>\n",
       "      <td>...</td>\n",
       "    </tr>\n",
       "    <tr>\n",
       "      <th>1313</th>\n",
       "      <td>1313</td>\n",
       "      <td>100-5-36694</td>\n",
       "      <td>Band</td>\n",
       "      <td>Everything Starts From A Dot</td>\n",
       "      <td>Turnbull</td>\n",
       "      <td>NaN</td>\n",
       "      <td>Cane River Music</td>\n",
       "      <td>5</td>\n",
       "      <td>NaN</td>\n",
       "    </tr>\n",
       "    <tr>\n",
       "      <th>1314</th>\n",
       "      <td>1314</td>\n",
       "      <td>100-5-36695</td>\n",
       "      <td>Band</td>\n",
       "      <td>Mare Tranquillitatis</td>\n",
       "      <td>Zare</td>\n",
       "      <td>NaN</td>\n",
       "      <td>Murphy Music Press</td>\n",
       "      <td>5</td>\n",
       "      <td>NaN</td>\n",
       "    </tr>\n",
       "    <tr>\n",
       "      <th>1315</th>\n",
       "      <td>1315</td>\n",
       "      <td>100-5-36696</td>\n",
       "      <td>Band</td>\n",
       "      <td>Reluctant Joys</td>\n",
       "      <td>Karrick</td>\n",
       "      <td>NaN</td>\n",
       "      <td>Alfred Music Company, Inc.</td>\n",
       "      <td>5</td>\n",
       "      <td>NaN</td>\n",
       "    </tr>\n",
       "    <tr>\n",
       "      <th>1316</th>\n",
       "      <td>1316</td>\n",
       "      <td>100-5-36697</td>\n",
       "      <td>Band</td>\n",
       "      <td>Resolutions</td>\n",
       "      <td>Camphouse</td>\n",
       "      <td>NaN</td>\n",
       "      <td>Neil A. Kjos Music Company</td>\n",
       "      <td>5</td>\n",
       "      <td>NaN</td>\n",
       "    </tr>\n",
       "    <tr>\n",
       "      <th>1317</th>\n",
       "      <td>1317</td>\n",
       "      <td>100-5-36698</td>\n",
       "      <td>Band</td>\n",
       "      <td>The Sacred Pipe</td>\n",
       "      <td>Green</td>\n",
       "      <td>NaN</td>\n",
       "      <td>RWS Music Company</td>\n",
       "      <td>5</td>\n",
       "      <td>NaN</td>\n",
       "    </tr>\n",
       "  </tbody>\n",
       "</table>\n",
       "<p>1318 rows × 9 columns</p>\n",
       "</div>"
      ],
      "text/plain": [
       "      Unnamed: 0         Code Event Name                             Title  \\\n",
       "0              0  100-1-15192       Band      Chorale and Fugue in F Major   \n",
       "1              1  100-1-15193       Band                      Bartok Suite   \n",
       "2              2  100-1-15194       Band  Allegretto (from Symphony No. 7)   \n",
       "3              3  100-1-15198       Band              Theme and Variations   \n",
       "4              4  100-1-15200       Band                          La Volta   \n",
       "...          ...          ...        ...                               ...   \n",
       "1313        1313  100-5-36694       Band      Everything Starts From A Dot   \n",
       "1314        1314  100-5-36695       Band              Mare Tranquillitatis   \n",
       "1315        1315  100-5-36696       Band                    Reluctant Joys   \n",
       "1316        1316  100-5-36697       Band                       Resolutions   \n",
       "1317        1317  100-5-36698       Band                   The Sacred Pipe   \n",
       "\n",
       "       Composer Arranger      Publisher [Collection]  Grade   Specification  \n",
       "0          Bach    Daehn          Daehn Publications      1  (Chorale only)  \n",
       "1        Bartok    Clark                 Belwin, Inc      1             NaN  \n",
       "2     Beethoven    Court                Curnow Music      1             NaN  \n",
       "3        Broege      NaN       Manhattan Beach Music      1             NaN  \n",
       "4          Byrd   Fenske          Daehn Publications      1             NaN  \n",
       "...         ...      ...                         ...    ...             ...  \n",
       "1313   Turnbull      NaN            Cane River Music      5             NaN  \n",
       "1314       Zare      NaN          Murphy Music Press      5             NaN  \n",
       "1315    Karrick      NaN  Alfred Music Company, Inc.      5             NaN  \n",
       "1316  Camphouse      NaN  Neil A. Kjos Music Company      5             NaN  \n",
       "1317      Green      NaN           RWS Music Company      5             NaN  \n",
       "\n",
       "[1318 rows x 9 columns]"
      ]
     },
     "execution_count": 2,
     "metadata": {},
     "output_type": "execute_result"
    }
   ],
   "source": [
    "# import the pml_output\n",
    "pml_output = pd.read_csv(\"csv_files/pml_output.csv\")\n",
    "pml_output"
   ]
  },
  {
   "cell_type": "code",
   "execution_count": 11,
   "metadata": {},
   "outputs": [
    {
     "name": "stderr",
     "output_type": "stream",
     "text": [
      "c:\\Users\\macdk\\AppData\\Local\\Programs\\Python\\Python37\\lib\\site-packages\\IPython\\core\\interactiveshell.py:3553: DtypeWarning: Columns (14) have mixed types.Specify dtype option on import or set low_memory=False.\n",
      "  exec(code_obj, self.user_global_ns, self.user_ns)\n"
     ]
    }
   ],
   "source": [
    "# import the full_output csv\n",
    "df = pd.read_csv(\"csv_files/full_output.csv\")\n",
    "# drop columns that are not needed\n",
    "df.drop('cj1', axis=1, inplace=True)\n",
    "df.drop('cj2', axis=1, inplace=True)\n",
    "df.drop('cj3', axis=1, inplace=True)\n",
    "df.drop('srj1', axis=1, inplace=True)\n",
    "df.drop('srj2', axis=1, inplace=True)\n",
    "df.drop('srj3', axis=1, inplace=True)\n",
    "df.drop('Region', axis=1, inplace=True)\n",
    "df.drop('Date', axis=1, inplace=True)\n",
    "df.drop('Stage Average', axis=1, inplace=True)"
   ]
  },
  {
   "cell_type": "code",
   "execution_count": 9,
   "metadata": {},
   "outputs": [],
   "source": [
    "# selection columns\n",
    "selection_columns = ['Selection 1', 'Selection 2', 'Selection 3']\n"
   ]
  },
  {
   "cell_type": "code",
   "execution_count": 15,
   "metadata": {},
   "outputs": [],
   "source": [
    "# get a random sample of 50 rows from df\n",
    "df_top50 = df.sample(n=50, random_state=1)\n",
    "pml_output['Grade'] = pml_output['Grade'].astype(int)\n",
    "\n",
    "for column in selection_columns:\n",
    "    for i in df_top50[column]:\n",
    "        selection = process.extractOne(\n",
    "            i, \n",
    "            pml_output['Title'], \n",
    "            score_cutoff=91)\n",
    "        composer = process.extractOne(\n",
    "            df_top50.loc[df_top50[column] == i, f\"{column} Comp/arr\"].values[0],\n",
    "            pml_output['Composer'],\n",
    "            score_cutoff=91)\n",
    "        \n",
    "        try:\n",
    "            df_top50.loc[df_top50[column] == i, f\"{column} Grade\"] = pml_output[pml_output['Title'] == selection[0]]['Grade'].to_string(index=False)\n",
    "            df_top50.loc[df_top50[column] == i, column] = f\"{selection[0]} ({selection[1]})\"\n",
    "        except:\n",
    "            pass\n",
    "            \n"
   ]
  },
  {
   "cell_type": "code",
   "execution_count": 6,
   "metadata": {},
   "outputs": [
    {
     "name": "stdout",
     "output_type": "stream",
     "text": [
      "Danzon No. 2\n"
     ]
    },
    {
     "data": {
      "text/plain": [
       "'5'"
      ]
     },
     "execution_count": 6,
     "metadata": {},
     "output_type": "execute_result"
    }
   ],
   "source": [
    "# get the \"Grade\" column from pml_output where title matches 'Danzon No. 2'\n",
    "testsel = process.extractOne('Danzon No 2', pml_output['Title'], score_cutoff=91)\n",
    "print(testsel[0])\n",
    "pml_output[pml_output['Title'] == testsel[0]]['Grade'].to_string(index=False)\n"
   ]
  },
  {
   "cell_type": "code",
   "execution_count": null,
   "metadata": {},
   "outputs": [],
   "source": []
  },
  {
   "cell_type": "code",
   "execution_count": null,
   "metadata": {},
   "outputs": [],
   "source": []
  },
  {
   "cell_type": "code",
   "execution_count": null,
   "metadata": {},
   "outputs": [],
   "source": []
  },
  {
   "cell_type": "code",
   "execution_count": null,
   "metadata": {},
   "outputs": [],
   "source": []
  },
  {
   "cell_type": "code",
   "execution_count": null,
   "metadata": {},
   "outputs": [],
   "source": []
  }
 ],
 "metadata": {
  "kernelspec": {
   "display_name": "Python 3.7.6 64-bit",
   "language": "python",
   "name": "python3"
  },
  "language_info": {
   "codemirror_mode": {
    "name": "ipython",
    "version": 3
   },
   "file_extension": ".py",
   "mimetype": "text/x-python",
   "name": "python",
   "nbconvert_exporter": "python",
   "pygments_lexer": "ipython3",
   "version": "3.7.6"
  },
  "orig_nbformat": 4,
  "vscode": {
   "interpreter": {
    "hash": "53babf5c189ad8a4933a2bd5063a1840a2c47c9b82a6c06a0d6cefa0137ac8c2"
   }
  }
 },
 "nbformat": 4,
 "nbformat_minor": 2
}
