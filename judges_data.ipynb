{
 "cells": [
  {
   "cell_type": "code",
   "execution_count": 36,
   "metadata": {},
   "outputs": [],
   "source": [
    "import pandas as pd\n"
   ]
  },
  {
   "cell_type": "code",
   "execution_count": 37,
   "metadata": {},
   "outputs": [
    {
     "data": {
      "text/html": [
       "<div>\n",
       "<style scoped>\n",
       "    .dataframe tbody tr th:only-of-type {\n",
       "        vertical-align: middle;\n",
       "    }\n",
       "\n",
       "    .dataframe tbody tr th {\n",
       "        vertical-align: top;\n",
       "    }\n",
       "\n",
       "    .dataframe thead th {\n",
       "        text-align: right;\n",
       "    }\n",
       "</style>\n",
       "<table border=\"1\" class=\"dataframe\">\n",
       "  <thead>\n",
       "    <tr style=\"text-align: right;\">\n",
       "      <th></th>\n",
       "      <th>cj1</th>\n",
       "      <th>count</th>\n",
       "    </tr>\n",
       "  </thead>\n",
       "  <tbody>\n",
       "    <tr>\n",
       "      <th>0</th>\n",
       "      <td>george strickland</td>\n",
       "      <td>1891</td>\n",
       "    </tr>\n",
       "    <tr>\n",
       "      <th>1</th>\n",
       "      <td>danny prado</td>\n",
       "      <td>1869</td>\n",
       "    </tr>\n",
       "    <tr>\n",
       "      <th>2</th>\n",
       "      <td>rick yancey</td>\n",
       "      <td>1855</td>\n",
       "    </tr>\n",
       "    <tr>\n",
       "      <th>3</th>\n",
       "      <td>randy vaughn</td>\n",
       "      <td>1792</td>\n",
       "    </tr>\n",
       "    <tr>\n",
       "      <th>4</th>\n",
       "      <td>jill yancey</td>\n",
       "      <td>1728</td>\n",
       "    </tr>\n",
       "  </tbody>\n",
       "</table>\n",
       "</div>"
      ],
      "text/plain": [
       "                 cj1  count\n",
       "0  george strickland   1891\n",
       "1        danny prado   1869\n",
       "2        rick yancey   1855\n",
       "3       randy vaughn   1792\n",
       "4        jill yancey   1728"
      ]
     },
     "execution_count": 37,
     "metadata": {},
     "output_type": "execute_result"
    }
   ],
   "source": [
    "# import the top_judges.csv file into a dataframe\n",
    "top_judges = pd.read_csv('csv_files/top_judges.csv')\n",
    "top_judges.head()\n"
   ]
  },
  {
   "cell_type": "code",
   "execution_count": 38,
   "metadata": {},
   "outputs": [
    {
     "name": "stdout",
     "output_type": "stream",
     "text": [
      "60230\n"
     ]
    },
    {
     "name": "stderr",
     "output_type": "stream",
     "text": [
      "C:\\Users\\macdk\\AppData\\Local\\Temp\\ipykernel_8784\\1653068750.py:2: DtypeWarning: Columns (14) have mixed types. Specify dtype option on import or set low_memory=False.\n",
      "  full_output = pd.read_csv('csv_files/full_output.csv')\n"
     ]
    }
   ],
   "source": [
    "# import the full_output.csv file into a dataframe\n",
    "full_output = pd.read_csv('csv_files/full_output.csv')\n",
    "print(len(full_output))"
   ]
  },
  {
   "cell_type": "code",
   "execution_count": 39,
   "metadata": {},
   "outputs": [
    {
     "name": "stdout",
     "output_type": "stream",
     "text": [
      "56857\n"
     ]
    }
   ],
   "source": [
    "judge_name_columns = ['cj1', 'cj2', 'cj3', 'srj1', 'srj2', 'srj3']\n",
    "judge_rating_columns = ['Stage Judge 1', 'Stage Judge 2', 'Stage Judge 3', 'SR Judge 1', 'SR Judge 2', 'SR Judge 3']\n",
    "judge_stage_names = ['cj1', 'cj2', 'cj3']\n",
    "judge_sr_names = ['srj1', 'srj2', 'srj3']\n",
    "stage_rating_columns = ['Stage Judge 1', 'Stage Judge 2', 'Stage Judge 3']\n",
    "sr_rating_columns = ['SR Judge 1', 'SR Judge 2', 'SR Judge 3'] \n",
    "full_output = full_output.dropna(subset = stage_rating_columns)\n",
    "print(len(full_output))"
   ]
  },
  {
   "cell_type": "code",
   "execution_count": 40,
   "metadata": {},
   "outputs": [],
   "source": [
    "# convert all values in the top_judges dataframe to string\n",
    "top_judges['cj1'] = top_judges['cj1'].astype(str)\n",
    "\n",
    "# convert top_judges['cj1'] to list\n",
    "top_judge_names = top_judges['cj1'].to_list()"
   ]
  },
  {
   "cell_type": "code",
   "execution_count": 41,
   "metadata": {},
   "outputs": [],
   "source": [
    "top_judge_row = 0\n",
    "for judge in top_judge_names:\n",
    "    column_index = 0\n",
    "    jlen = 0\n",
    "    jsum = 0\n",
    "    for i in judge_stage_names:\n",
    "        column_index += 1\n",
    "        mask = full_output.loc[full_output[i].str.contains(judge) == True, f'Stage Judge {column_index}']\n",
    "        jlen += len(mask)\n",
    "        jsum += sum(mask)\n",
    "    if jlen > 0:\n",
    "        stage_average = jsum / jlen\n",
    "\n",
    "    top_judges.at[top_judge_row, 'stage_average'] = stage_average\n",
    "    top_judge_row += 1\n",
    "\n",
    "\n"
   ]
  },
  {
   "cell_type": "code",
   "execution_count": null,
   "metadata": {},
   "outputs": [],
   "source": []
  }
 ],
 "metadata": {
  "kernelspec": {
   "display_name": "Python 3.9.12 ('base')",
   "language": "python",
   "name": "python3"
  },
  "language_info": {
   "codemirror_mode": {
    "name": "ipython",
    "version": 3
   },
   "file_extension": ".py",
   "mimetype": "text/x-python",
   "name": "python",
   "nbconvert_exporter": "python",
   "pygments_lexer": "ipython3",
   "version": "3.9.12"
  },
  "orig_nbformat": 4,
  "vscode": {
   "interpreter": {
    "hash": "70b4dc00a302d4d83b11a35e43215ace7772a57f7f877647638d579a5e5b7b94"
   }
  }
 },
 "nbformat": 4,
 "nbformat_minor": 2
}
